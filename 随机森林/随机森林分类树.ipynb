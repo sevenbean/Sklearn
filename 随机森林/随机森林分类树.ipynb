{
 "cells": [
  {
   "cell_type": "code",
   "execution_count": 1,
   "metadata": {},
   "outputs": [],
   "source": [
    "'''\n",
    "集成算法：它是通过在数据上构建多个模型，集成所有模型的建模结果，\n",
    "随机森林的基评估器(模型)是决策树，集成算法有三种：bagging(装袋法),Boosting(提升法)\n",
    "和stacking\n",
    "bagging:构建多个相互独立的评估器（模型），然后进行预测进行平均或者多数表决原则来决定结果\n",
    "boosting:基评估器是相关的，按顺序一一构建，结合弱评估器的力量一次次的对难以评估的样本进行预测\n",
    "'''"
   ]
  },
  {
   "cell_type": "code",
   "execution_count": 1,
   "metadata": {},
   "outputs": [],
   "source": [
    "from sklearn.tree import DecisionTreeClassifier\n",
    "from sklearn.ensemble import RandomForestClassifier\n",
    "from sklearn.datasets import load_wine"
   ]
  },
  {
   "cell_type": "code",
   "execution_count": 2,
   "metadata": {},
   "outputs": [],
   "source": [
    "wine=load_wine()"
   ]
  },
  {
   "cell_type": "code",
   "execution_count": 3,
   "metadata": {},
   "outputs": [
    {
     "data": {
      "text/plain": [
       "array([[1.423e+01, 1.710e+00, 2.430e+00, ..., 1.040e+00, 3.920e+00,\n",
       "        1.065e+03],\n",
       "       [1.320e+01, 1.780e+00, 2.140e+00, ..., 1.050e+00, 3.400e+00,\n",
       "        1.050e+03],\n",
       "       [1.316e+01, 2.360e+00, 2.670e+00, ..., 1.030e+00, 3.170e+00,\n",
       "        1.185e+03],\n",
       "       ...,\n",
       "       [1.327e+01, 4.280e+00, 2.260e+00, ..., 5.900e-01, 1.560e+00,\n",
       "        8.350e+02],\n",
       "       [1.317e+01, 2.590e+00, 2.370e+00, ..., 6.000e-01, 1.620e+00,\n",
       "        8.400e+02],\n",
       "       [1.413e+01, 4.100e+00, 2.740e+00, ..., 6.100e-01, 1.600e+00,\n",
       "        5.600e+02]])"
      ]
     },
     "execution_count": 3,
     "metadata": {},
     "output_type": "execute_result"
    }
   ],
   "source": [
    "wine.data"
   ]
  },
  {
   "cell_type": "code",
   "execution_count": 4,
   "metadata": {},
   "outputs": [
    {
     "data": {
      "text/plain": [
       "array([0, 0, 0, 0, 0, 0, 0, 0, 0, 0, 0, 0, 0, 0, 0, 0, 0, 0, 0, 0, 0, 0,\n",
       "       0, 0, 0, 0, 0, 0, 0, 0, 0, 0, 0, 0, 0, 0, 0, 0, 0, 0, 0, 0, 0, 0,\n",
       "       0, 0, 0, 0, 0, 0, 0, 0, 0, 0, 0, 0, 0, 0, 0, 1, 1, 1, 1, 1, 1, 1,\n",
       "       1, 1, 1, 1, 1, 1, 1, 1, 1, 1, 1, 1, 1, 1, 1, 1, 1, 1, 1, 1, 1, 1,\n",
       "       1, 1, 1, 1, 1, 1, 1, 1, 1, 1, 1, 1, 1, 1, 1, 1, 1, 1, 1, 1, 1, 1,\n",
       "       1, 1, 1, 1, 1, 1, 1, 1, 1, 1, 1, 1, 1, 1, 1, 1, 1, 1, 1, 1, 2, 2,\n",
       "       2, 2, 2, 2, 2, 2, 2, 2, 2, 2, 2, 2, 2, 2, 2, 2, 2, 2, 2, 2, 2, 2,\n",
       "       2, 2, 2, 2, 2, 2, 2, 2, 2, 2, 2, 2, 2, 2, 2, 2, 2, 2, 2, 2, 2, 2,\n",
       "       2, 2])"
      ]
     },
     "execution_count": 4,
     "metadata": {},
     "output_type": "execute_result"
    }
   ],
   "source": [
    "wine.target"
   ]
  },
  {
   "cell_type": "code",
   "execution_count": 5,
   "metadata": {},
   "outputs": [
    {
     "name": "stdout",
     "output_type": "stream",
     "text": [
      "(124, 13)\n",
      "(124,)\n",
      "(54, 13)\n",
      "(54,)\n"
     ]
    }
   ],
   "source": [
    "#构建模型\n",
    "from sklearn.model_selection import train_test_split\n",
    "train_x,test_x,train_y,test_y=train_test_split(wine.data,wine.target,\n",
    "                                               test_size=0.3)\n",
    "print(train_x.shape)\n",
    "print(train_y.shape)\n",
    "print(test_x.shape)\n",
    "print(test_y.shape)"
   ]
  },
  {
   "cell_type": "code",
   "execution_count": 6,
   "metadata": {},
   "outputs": [
    {
     "name": "stdout",
     "output_type": "stream",
     "text": [
      "TreeClassifier:0.9074074074074074 RandomClassifier:0.9814814814814815\n"
     ]
    }
   ],
   "source": [
    "clf=DecisionTreeClassifier(random_state=0)\n",
    "rfc=RandomForestClassifier(random_state=0)\n",
    "\n",
    "clf=clf.fit(train_x,train_y)\n",
    "rfc=rfc.fit(train_x,train_y)\n",
    "\n",
    "score_c=clf.score(test_x,test_y)\n",
    "score_r=rfc.score(test_x,test_y)\n",
    "\n",
    "print(\"TreeClassifier:{}\".format(score_c),\n",
    "      \"RandomClassifier:{}\".format(score_r))"
   ]
  },
  {
   "cell_type": "code",
   "execution_count": 7,
   "metadata": {},
   "outputs": [
    {
     "data": {
      "text/plain": [
       "array([0.09835134, 0.04191654, 0.01728234, 0.03109314, 0.03303269,\n",
       "       0.05949329, 0.14618132, 0.01111577, 0.03059697, 0.16909598,\n",
       "       0.08890396, 0.10007058, 0.17286606])"
      ]
     },
     "execution_count": 7,
     "metadata": {},
     "output_type": "execute_result"
    }
   ],
   "source": [
    "#重要接口的使用\n",
    "rfc.feature_importances_"
   ]
  },
  {
   "cell_type": "code",
   "execution_count": 8,
   "metadata": {},
   "outputs": [
    {
     "data": {
      "text/plain": [
       "array([[ 4,  4,  5, ...,  2,  4, 11],\n",
       "       [ 1,  5, 10, ...,  7,  1,  3],\n",
       "       [ 1,  5, 10, ...,  7,  1,  3],\n",
       "       ...,\n",
       "       [16, 12, 23, ..., 14, 10, 16],\n",
       "       [ 1, 12, 19, ...,  9,  1,  3],\n",
       "       [ 4,  4,  5, ...,  2,  4, 11]], dtype=int64)"
      ]
     },
     "execution_count": 8,
     "metadata": {},
     "output_type": "execute_result"
    }
   ],
   "source": [
    "#apply：返回每个测试样本所在的叶子节点的索引\n",
    "rfc.apply(test_x)"
   ]
  },
  {
   "cell_type": "code",
   "execution_count": 9,
   "metadata": {},
   "outputs": [
    {
     "data": {
      "text/plain": [
       "array([2, 1, 1, 1, 1, 0, 2, 2, 1, 1, 1, 1, 0, 1, 2, 0, 2, 1, 2, 0, 0, 1,\n",
       "       0, 0, 0, 0, 1, 0, 0, 0, 2, 1, 1, 2, 2, 1, 0, 0, 1, 1, 2, 2, 1, 2,\n",
       "       2, 0, 2, 1, 2, 1, 2, 0, 1, 2])"
      ]
     },
     "execution_count": 9,
     "metadata": {},
     "output_type": "execute_result"
    }
   ],
   "source": [
    "#返回每个测试样本的分类/回归结果\n",
    "rfc.predict(test_x)"
   ]
  },
  {
   "cell_type": "code",
   "execution_count": 10,
   "metadata": {},
   "outputs": [
    {
     "data": {
      "text/plain": [
       "array([[0.  , 0.  , 1.  ],\n",
       "       [0.04, 0.96, 0.  ],\n",
       "       [0.  , 1.  , 0.  ],\n",
       "       [0.02, 0.98, 0.  ],\n",
       "       [0.01, 0.96, 0.03],\n",
       "       [0.98, 0.01, 0.01],\n",
       "       [0.04, 0.43, 0.53],\n",
       "       [0.  , 0.29, 0.71],\n",
       "       [0.01, 0.99, 0.  ],\n",
       "       [0.07, 0.93, 0.  ],\n",
       "       [0.1 , 0.81, 0.09],\n",
       "       [0.01, 0.99, 0.  ],\n",
       "       [0.75, 0.18, 0.07],\n",
       "       [0.05, 0.85, 0.1 ],\n",
       "       [0.02, 0.04, 0.94],\n",
       "       [0.97, 0.03, 0.  ],\n",
       "       [0.  , 0.16, 0.84],\n",
       "       [0.11, 0.88, 0.01],\n",
       "       [0.02, 0.2 , 0.78],\n",
       "       [0.89, 0.03, 0.08],\n",
       "       [0.95, 0.02, 0.03],\n",
       "       [0.  , 0.98, 0.02],\n",
       "       [0.92, 0.07, 0.01],\n",
       "       [1.  , 0.  , 0.  ],\n",
       "       [0.77, 0.2 , 0.03],\n",
       "       [0.88, 0.11, 0.01],\n",
       "       [0.01, 0.97, 0.02],\n",
       "       [0.96, 0.04, 0.  ],\n",
       "       [0.89, 0.11, 0.  ],\n",
       "       [0.59, 0.4 , 0.01],\n",
       "       [0.  , 0.  , 1.  ],\n",
       "       [0.3 , 0.7 , 0.  ],\n",
       "       [0.01, 0.89, 0.1 ],\n",
       "       [0.01, 0.09, 0.9 ],\n",
       "       [0.03, 0.  , 0.97],\n",
       "       [0.26, 0.59, 0.15],\n",
       "       [0.95, 0.03, 0.02],\n",
       "       [1.  , 0.  , 0.  ],\n",
       "       [0.02, 0.98, 0.  ],\n",
       "       [0.  , 0.98, 0.02],\n",
       "       [0.04, 0.12, 0.84],\n",
       "       [0.  , 0.04, 0.96],\n",
       "       [0.17, 0.72, 0.11],\n",
       "       [0.05, 0.2 , 0.75],\n",
       "       [0.01, 0.03, 0.96],\n",
       "       [0.99, 0.01, 0.  ],\n",
       "       [0.08, 0.19, 0.73],\n",
       "       [0.  , 0.8 , 0.2 ],\n",
       "       [0.05, 0.01, 0.94],\n",
       "       [0.3 , 0.65, 0.05],\n",
       "       [0.  , 0.01, 0.99],\n",
       "       [0.89, 0.09, 0.02],\n",
       "       [0.11, 0.87, 0.02],\n",
       "       [0.01, 0.04, 0.95]])"
      ]
     },
     "execution_count": 10,
     "metadata": {},
     "output_type": "execute_result"
    }
   ],
   "source": [
    "#返回每个测试样本分类的概率值\n",
    "rfc.predict_proba(test_x)"
   ]
  },
  {
   "cell_type": "code",
   "execution_count": 11,
   "metadata": {},
   "outputs": [
    {
     "data": {
      "image/png": "[encoded data removed]",
      "text/plain": [
       "<Figure size 432x288 with 1 Axes>"
      ]
     },
     "metadata": {
      "needs_background": "light"
     },
     "output_type": "display_data"
    }
   ],
   "source": [
    "#测试在一组交叉验证的情况下的效果对比\n",
    "from sklearn.model_selection import cross_val_score\n",
    "import matplotlib.pyplot as plt\n",
    "clf=DecisionTreeClassifier()\n",
    "clf_s=cross_val_score(clf,wine.data,wine.target,cv=10)\n",
    "rfc=RandomForestClassifier(n_estimators=25)\n",
    "rfc_s=cross_val_score(rfc,wine.data,wine.target,cv=10)\n",
    "plt.plot(range(1,11),clf_s,label=\"DecisionTree\")\n",
    "plt.plot(range(1,11),rfc_s,label=\"RandomForest\")\n",
    "plt.legend()\n",
    "plt.show()"
   ]
  },
  {
   "cell_type": "code",
   "execution_count": 12,
   "metadata": {},
   "outputs": [
    {
     "data": {
      "image/png": "[encoded data removed]",
      "text/plain": [
       "<Figure size 432x288 with 1 Axes>"
      ]
     },
     "metadata": {
      "needs_background": "light"
     },
     "output_type": "display_data"
    }
   ],
   "source": [
    "clf_1=[]\n",
    "rfc_1=[]\n",
    "for i in range(1,11):\n",
    "    clf=DecisionTreeClassifier()\n",
    "    clf_s=cross_val_score(clf,wine.data,wine.target,cv=10).mean()\n",
    "    clf_1.append(clf_s)\n",
    "    rfc=RandomForestClassifier(n_estimators=25)\n",
    "    rfc_s=cross_val_score(rfc,wine.data,wine.target,cv=10).mean()\n",
    "    rfc_1.append(rfc_s)\n",
    "plt.plot(range(1,11),clf_1,label=\"DecisionTree\")\n",
    "plt.plot(range(1,11),rfc_1,label=\"RandomForest\")\n",
    "plt.legend()\n",
    "plt.show()"
   ]
  },
  {
   "cell_type": "code",
   "execution_count": 23,
   "metadata": {},
   "outputs": [
    {
     "data": {
      "text/plain": [
       "0.9814814814814815"
      ]
     },
     "execution_count": 23,
     "metadata": {},
     "output_type": "execute_result"
    }
   ],
   "source": [
    "rfc=RandomForestClassifier(n_estimators=25,random_state=10)\n",
    "rfc=rfc.fit(train_x,train_y)\n",
    "rfc.score(test_x,test_y)"
   ]
  },
  {
   "cell_type": "code",
   "execution_count": 19,
   "metadata": {},
   "outputs": [
    {
     "name": "stdout",
     "output_type": "stream",
     "text": [
      "1165313289\n",
      "1283169405\n",
      "89128932\n",
      "2124247567\n",
      "574014784\n",
      "1902734705\n",
      "1068604539\n",
      "1425548444\n",
      "2141071321\n",
      "357864157\n",
      "965494256\n",
      "108111773\n",
      "850673521\n",
      "898541562\n",
      "1118970888\n",
      "1140597833\n",
      "726325504\n",
      "1132165610\n",
      "379416616\n",
      "645868022\n",
      "796114340\n",
      "789494131\n",
      "1947309584\n",
      "1359794532\n",
      "16957679\n"
     ]
    }
   ],
   "source": [
    "#获取每棵随机树里的信息\n",
    "len(rfc.estimators_)\n",
    "for i in range(len(rfc.estimators_)):\n",
    "    print(rfc.estimators_[i].random_state)"
   ]
  },
  {
   "cell_type": "code",
   "execution_count": 25,
   "metadata": {},
   "outputs": [
    {
     "data": {
      "text/plain": [
       "0.9719101123595506"
      ]
     },
     "execution_count": 25,
     "metadata": {},
     "output_type": "execute_result"
    }
   ],
   "source": [
    "'''\n",
    "为了让每一个基分类器都不一样，保证随机性越大，袋装法的效果会越来越好，\n",
    "来确保随机深林比单个分类器好\n",
    "可以使用random_state(随机抽取里面的特征)，比较简单的\n",
    "可以采用有放回的随机抽样，bootsrap为True时表示开启了又放回的随机抽样\n",
    ",oob_score表示用落在袋外的数据进行测试，袋里的数据用来测试，\n",
    "所以在随机深森林中可以不用划分测试集和训练集\n",
    "\n",
    "'''\n",
    "rfc=RandomForestClassifier(n_estimators=25,oob_score=True,bootstrap=True)\n",
    "rfc=rfc.fit(wine.data,wine.target)\n",
    "rfc.oob_score_"
   ]
  },
  {
   "cell_type": "code",
   "execution_count": 26,
   "metadata": {},
   "outputs": [
    {
     "data": {
      "text/plain": [
       "array([0.13607265, 0.04467601, 0.01408032, 0.02816508, 0.02552468,\n",
       "       0.03001446, 0.15561281, 0.01870778, 0.02810205, 0.13214765,\n",
       "       0.08078315, 0.10589593, 0.20021743])"
      ]
     },
     "execution_count": 26,
     "metadata": {},
     "output_type": "execute_result"
    }
   ],
   "source": [
    "rfc.feature_importances_"
   ]
  },
  {
   "cell_type": "code",
   "execution_count": 28,
   "metadata": {},
   "outputs": [
    {
     "data": {
      "text/plain": [
       "1.0"
      ]
     },
     "execution_count": 28,
     "metadata": {},
     "output_type": "execute_result"
    }
   ],
   "source": [
    "rfc.score(test_x,test_y)"
   ]
  },
  {
   "cell_type": "code",
   "execution_count": null,
   "metadata": {},
   "outputs": [],
   "source": []
  }
 ],
 "metadata": {
  "kernelspec": {
   "display_name": "Python 3",
   "language": "python",
   "name": "python3"
  },
  "language_info": {
   "codemirror_mode": {
    "name": "ipython",
    "version": 3
   },
   "file_extension": ".py",
   "mimetype": "text/x-python",
   "name": "python",
   "nbconvert_exporter": "python",
   "pygments_lexer": "ipython3",
   "version": "3.7.7"
  }
 },
 "nbformat": 4,
 "nbformat_minor": 4
}
